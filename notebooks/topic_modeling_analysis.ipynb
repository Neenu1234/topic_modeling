{
  "cells": [
    {
      "cell_type": "markdown",
      "metadata": {},
      "source": [
        "# Topic Modeling Analysis - Amazon Fine Foods Reviews\n",
        "\n",
        "This notebook provides an interactive analysis of the topic modeling results for the Amazon Fine Foods Reviews dataset.\n",
        "\n",
        "## Overview\n",
        "- **Dataset**: Amazon Fine Foods Reviews\n",
        "- **Algorithms**: LDA (Latent Dirichlet Allocation) and NMF (Non-negative Matrix Factorization)\n",
        "- **Evaluation**: Topic coherence and perplexity metrics\n",
        "- **Features**: TF-IDF vectorization, bigram/trigram extraction, FAISS vector database\n"
      ]
    },
    {
      "cell_type": "code",
      "execution_count": null,
      "metadata": {},
      "outputs": [],
      "source": [
        "# Import required libraries\n",
        "import pandas as pd\n",
        "import numpy as np\n",
        "import matplotlib.pyplot as plt\n",
        "import seaborn as sns\n",
        "import plotly.graph_objects as go\n",
        "import plotly.express as px\n",
        "from wordcloud import WordCloud\n",
        "import pickle\n",
        "import os\n",
        "import sys\n",
        "\n",
        "# Add src directory to path\n",
        "sys.path.append('src')\n",
        "\n",
        "# Set up plotting\n",
        "plt.style.use('seaborn-v0_8')\n",
        "sns.set_palette(\"husl\")\n",
        "\n",
        "print(\"Libraries imported successfully!\")\n"
      ]
    }
  ],
  "metadata": {
    "language_info": {
      "name": "python"
    }
  },
  "nbformat": 4,
  "nbformat_minor": 2
}
